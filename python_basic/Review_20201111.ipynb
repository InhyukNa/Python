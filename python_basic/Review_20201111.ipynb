{
 "cells": [
  {
   "cell_type": "code",
   "execution_count": 16,
   "metadata": {},
   "outputs": [
    {
     "name": "stdout",
     "output_type": "stream",
     "text": [
      "5\n"
     ]
    }
   ],
   "source": [
    "with open('./animals.csv', 'r') as fp:\n",
    "    result = []\n",
    "    data = fp.read()\n",
    "    rows = data.split('\\n')\n",
    "    print(len(rows))\n",
    "\n",
    "    for row in rows:\n",
    "        animal = {\n",
    "            'Korean Name' : row.split(',')[0],\n",
    "            'English Name' : row.split(',')[1],\n",
    "            'Size' : row.split(',')[2]\n",
    "                    }\n",
    "\n",
    "        result.append(animal)"
   ]
  },
  {
   "cell_type": "code",
   "execution_count": 17,
   "metadata": {},
   "outputs": [
    {
     "data": {
      "text/plain": [
       "[{'Korean Name': 'Korean Name',\n",
       "  'English Name': ' English Name',\n",
       "  'Size': ' Size'},\n",
       " {'Korean Name': '강아지', 'English Name': ' dog', 'Size': ' 중형'},\n",
       " {'Korean Name': '고양이', 'English Name': ' cat', 'Size': ' 소형'},\n",
       " {'Korean Name': '물고기', 'English Name': ' fish', 'Size': ' 초소형'},\n",
       " {'Korean Name': '원숭이', 'English Name': ' monkey', 'Size': ' 대형'}]"
      ]
     },
     "execution_count": 17,
     "metadata": {},
     "output_type": "execute_result"
    }
   ],
   "source": [
    "result"
   ]
  },
  {
   "cell_type": "code",
   "execution_count": 18,
   "metadata": {},
   "outputs": [
    {
     "data": {
      "text/plain": [
       "'Korean Name, English Name, Size'"
      ]
     },
     "execution_count": 18,
     "metadata": {},
     "output_type": "execute_result"
    }
   ],
   "source": [
    "rows[0]"
   ]
  },
  {
   "cell_type": "code",
   "execution_count": 19,
   "metadata": {},
   "outputs": [
    {
     "data": {
      "text/plain": [
       "['강아지, dog, 중형', '고양이, cat, 소형', '물고기, fish, 초소형', '원숭이, monkey, 대형']"
      ]
     },
     "execution_count": 19,
     "metadata": {},
     "output_type": "execute_result"
    }
   ],
   "source": [
    "rows[1:]"
   ]
  },
  {
   "cell_type": "code",
   "execution_count": 20,
   "metadata": {},
   "outputs": [
    {
     "name": "stdout",
     "output_type": "stream",
     "text": [
      "[{'Korean Name': '강아지', ' English Name': ' dog', ' Size': ' 중형'}, {'Korean Name': '고양이', ' English Name': ' cat', ' Size': ' 소형'}, {'Korean Name': '물고기', ' English Name': ' fish', ' Size': ' 초소형'}, {'Korean Name': '원숭이', ' English Name': ' monkey', ' Size': ' 대형'}]\n"
     ]
    }
   ],
   "source": [
    "with open('./animals.csv', 'r') as fp:\n",
    "    result = []\n",
    "    data = fp.read()\n",
    "    rows = data.split('\\n')\n",
    "    \n",
    "    columns = rows[0].split(',')\n",
    "    \n",
    "    for row in rows[1:]:\n",
    "        row_data = row.split(',')\n",
    "        row_dict = {}\n",
    "        \n",
    "        for column_index in range(len(columns)):\n",
    "            column = columns[column_index]\n",
    "            row_dict[column] = row_data[column_index]\n",
    "            \n",
    "        result.append(row_dict)\n",
    "    \n",
    "    print(result)"
   ]
  },
  {
   "cell_type": "code",
   "execution_count": 21,
   "metadata": {},
   "outputs": [],
   "source": [
    "# 함수"
   ]
  },
  {
   "cell_type": "code",
   "execution_count": 28,
   "metadata": {},
   "outputs": [],
   "source": [
    "def read_csv(filepath):\n",
    "    with open(filepath, 'r') as fp:\n",
    "        result = []\n",
    "        data = fp.read()\n",
    "        rows = data.split('\\n')\n",
    "        \n",
    "        columns = rows[0].split(',')\n",
    "        \n",
    "        for row in rows[1:]:\n",
    "            row_data = row.split(',')\n",
    "            row_dict = {}\n",
    "        \n",
    "            for column_index in range(len(columns)):\n",
    "                column = columns[column_index]\n",
    "                row_dict[column] = row_data[column_index]\n",
    "                \n",
    "            result.append(row_dict)\n",
    "        return result"
   ]
  },
  {
   "cell_type": "code",
   "execution_count": 29,
   "metadata": {},
   "outputs": [
    {
     "data": {
      "text/plain": [
       "[{'Korean Name': '강아지', ' English Name': ' dog', ' Size': ' 중형'},\n",
       " {'Korean Name': '고양이', ' English Name': ' cat', ' Size': ' 소형'},\n",
       " {'Korean Name': '물고기', ' English Name': ' fish', ' Size': ' 초소형'},\n",
       " {'Korean Name': '원숭이', ' English Name': ' monkey', ' Size': ' 대형'}]"
      ]
     },
     "execution_count": 29,
     "metadata": {},
     "output_type": "execute_result"
    }
   ],
   "source": [
    "read_csv('./animals.csv')"
   ]
  },
  {
   "cell_type": "code",
   "execution_count": 38,
   "metadata": {},
   "outputs": [],
   "source": [
    "def read_csv(filepath, separator = ','):\n",
    "    with open(filepath, 'r') as fp:\n",
    "        result = []\n",
    "        data = fp.read()\n",
    "        rows = data.split('\\n')\n",
    "        \n",
    "        columns = rows[0].split(separator)\n",
    "        \n",
    "        for row in rows[1:]:\n",
    "            row_data = row.split(separator)\n",
    "#             print(row_data)\n",
    "            row_dict = {}\n",
    "        \n",
    "            for column_index in range(len(columns)):\n",
    "                column = columns[column_index]\n",
    "                row_dict[column] = row_data[column_index]\n",
    "                \n",
    "            result.append(row_dict)\n",
    "        return result"
   ]
  },
  {
   "cell_type": "code",
   "execution_count": 39,
   "metadata": {},
   "outputs": [
    {
     "data": {
      "text/plain": [
       "[{'Korean Name': '강아지', ' English Name': ' dog', ' Size': ' 중형'},\n",
       " {'Korean Name': '고양이', ' English Name': ' cat', ' Size': ' 소형'},\n",
       " {'Korean Name': '물고기', ' English Name': ' fish', ' Size': ' 초소형'},\n",
       " {'Korean Name': '원숭이', ' English Name': ' monkey', ' Size': ' 대형'}]"
      ]
     },
     "execution_count": 39,
     "metadata": {},
     "output_type": "execute_result"
    }
   ],
   "source": [
    "read_csv('./animals.csv')"
   ]
  },
  {
   "cell_type": "code",
   "execution_count": 40,
   "metadata": {},
   "outputs": [],
   "source": [
    "def read_csv(filepath, separator = '|'):\n",
    "    with open(filepath, 'r') as fp:\n",
    "        result = []\n",
    "        data = fp.read()\n",
    "        rows = data.split('\\n')\n",
    "        \n",
    "        columns = rows[0].split(separator)\n",
    "        \n",
    "        for row in rows[1:]:\n",
    "            row_data = row.split(separator)\n",
    "            row_dict = {}\n",
    "            \n",
    "            for column_index in range(len(columns)):\n",
    "                column = columns[column_index]\n",
    "                row_dict[column] = row_data[column_index]\n",
    "                \n",
    "            result.append(row_dict)\n",
    "        return result"
   ]
  },
  {
   "cell_type": "code",
   "execution_count": 41,
   "metadata": {},
   "outputs": [
    {
     "data": {
      "text/plain": [
       "[{'Name': '딸기', 'Size': '소형'},\n",
       " {'Name': '멜론', 'Size': '중형'},\n",
       " {'Name': '수박', 'Size': '대형'}]"
      ]
     },
     "execution_count": 41,
     "metadata": {},
     "output_type": "execute_result"
    }
   ],
   "source": [
    "read_csv('./fruits.csv')"
   ]
  },
  {
   "cell_type": "code",
   "execution_count": null,
   "metadata": {},
   "outputs": [],
   "source": []
  }
 ],
 "metadata": {
  "kernelspec": {
   "display_name": "Python 3",
   "language": "python",
   "name": "python3"
  },
  "language_info": {
   "codemirror_mode": {
    "name": "ipython",
    "version": 3
   },
   "file_extension": ".py",
   "mimetype": "text/x-python",
   "name": "python",
   "nbconvert_exporter": "python",
   "pygments_lexer": "ipython3",
   "version": "3.8.6rc1"
  }
 },
 "nbformat": 4,
 "nbformat_minor": 4
}
