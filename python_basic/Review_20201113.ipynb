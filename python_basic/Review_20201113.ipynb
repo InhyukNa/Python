{
 "cells": [
  {
   "cell_type": "code",
   "execution_count": 1,
   "metadata": {},
   "outputs": [],
   "source": [
    "# Class"
   ]
  },
  {
   "cell_type": "code",
   "execution_count": 6,
   "metadata": {},
   "outputs": [],
   "source": [
    "class Person():\n",
    "    name = '홍길동'\n",
    "    age = 20\n",
    "    \n",
    "    def introduce(self):\n",
    "        print('안녕하세요. 저는 {age}살 {name} 입니다.').format(age=self.age, name=self.name)"
   ]
  },
  {
   "cell_type": "code",
   "execution_count": 7,
   "metadata": {},
   "outputs": [
    {
     "data": {
      "text/plain": [
       "'홍길동'"
      ]
     },
     "execution_count": 7,
     "metadata": {},
     "output_type": "execute_result"
    }
   ],
   "source": [
    "hong = Person()\n",
    "hong.name"
   ]
  },
  {
   "cell_type": "code",
   "execution_count": 241,
   "metadata": {},
   "outputs": [],
   "source": [
    "class Person():\n",
    "    def __init__(self, name, age, money, *args, **kwargs):\n",
    "        self.name = name\n",
    "        self.age = age\n",
    "        self.money = money\n",
    "        \n",
    "    def __str__(self):\n",
    "        return self.name\n",
    "    \n",
    "    def __repr__(self):\n",
    "        return self.name\n",
    "    \n",
    "    def introduce(self):\n",
    "        print('안녕하세요. 저는 {age}살 {name} 입니다.'.format(age=self.age, name=self.name))\n",
    "        \n",
    "    def meet(self, another):\n",
    "        print('{myname}이 {yourname}을 만났습니다.'.format(\n",
    "            myname = self.name,\n",
    "            yourname = another.name))\n",
    "    \n",
    "    def give(self, partner, amount):\n",
    "        self.money -= amount\n",
    "        partner.money += amount\n",
    "        \n",
    "    def married(self, another):\n",
    "        print('{myname}과 {yourname}의 결혼을 축하합니다.'.format(\n",
    "            myname = self.name,\n",
    "            yourname = another.name))\n",
    "        \n",
    "    def __add__(self, partner):\n",
    "        print('{name} & {partner_name} | 결혼을 축하합니다'.format(\n",
    "             name = self.name,\n",
    "             partner_name = partner.name))"
   ]
  },
  {
   "cell_type": "code",
   "execution_count": 242,
   "metadata": {},
   "outputs": [
    {
     "data": {
      "text/plain": [
       "홍길동"
      ]
     },
     "execution_count": 242,
     "metadata": {},
     "output_type": "execute_result"
    }
   ],
   "source": [
    "hong = Person('홍길동', 20, 10000)\n",
    "hong"
   ]
  },
  {
   "cell_type": "code",
   "execution_count": 243,
   "metadata": {},
   "outputs": [
    {
     "name": "stdout",
     "output_type": "stream",
     "text": [
      "홍길동\n"
     ]
    }
   ],
   "source": [
    "print(hong)"
   ]
  },
  {
   "cell_type": "code",
   "execution_count": 244,
   "metadata": {},
   "outputs": [
    {
     "data": {
      "text/plain": [
       "20"
      ]
     },
     "execution_count": 244,
     "metadata": {},
     "output_type": "execute_result"
    }
   ],
   "source": [
    "hong.age"
   ]
  },
  {
   "cell_type": "code",
   "execution_count": 245,
   "metadata": {},
   "outputs": [
    {
     "data": {
      "text/plain": [
       "'홍길동'"
      ]
     },
     "execution_count": 245,
     "metadata": {},
     "output_type": "execute_result"
    }
   ],
   "source": [
    "hong.name"
   ]
  },
  {
   "cell_type": "code",
   "execution_count": 246,
   "metadata": {},
   "outputs": [
    {
     "name": "stdout",
     "output_type": "stream",
     "text": [
      "안녕하세요. 저는 20살 홍길동 입니다.\n"
     ]
    }
   ],
   "source": [
    "hong.introduce()"
   ]
  },
  {
   "cell_type": "code",
   "execution_count": 247,
   "metadata": {},
   "outputs": [],
   "source": [
    "lee = Person('이도령', 30, 1000)"
   ]
  },
  {
   "cell_type": "code",
   "execution_count": 248,
   "metadata": {},
   "outputs": [
    {
     "name": "stdout",
     "output_type": "stream",
     "text": [
      "안녕하세요. 저는 30살 이도령 입니다.\n"
     ]
    }
   ],
   "source": [
    "lee.introduce()"
   ]
  },
  {
   "cell_type": "code",
   "execution_count": 249,
   "metadata": {},
   "outputs": [
    {
     "name": "stdout",
     "output_type": "stream",
     "text": [
      "홍길동이 이도령을 만났습니다.\n"
     ]
    }
   ],
   "source": [
    "hong.meet(lee)"
   ]
  },
  {
   "cell_type": "code",
   "execution_count": 250,
   "metadata": {},
   "outputs": [],
   "source": [
    "hong.give(lee, 1000)"
   ]
  },
  {
   "cell_type": "code",
   "execution_count": 251,
   "metadata": {},
   "outputs": [
    {
     "data": {
      "text/plain": [
       "2000"
      ]
     },
     "execution_count": 251,
     "metadata": {},
     "output_type": "execute_result"
    }
   ],
   "source": [
    "lee.money"
   ]
  },
  {
   "cell_type": "code",
   "execution_count": 252,
   "metadata": {},
   "outputs": [
    {
     "data": {
      "text/plain": [
       "9000"
      ]
     },
     "execution_count": 252,
     "metadata": {},
     "output_type": "execute_result"
    }
   ],
   "source": [
    "hong.money"
   ]
  },
  {
   "cell_type": "code",
   "execution_count": 253,
   "metadata": {},
   "outputs": [
    {
     "name": "stdout",
     "output_type": "stream",
     "text": [
      "홍길동과 이도령의 결혼을 축하합니다.\n"
     ]
    }
   ],
   "source": [
    "hong.married(lee)"
   ]
  },
  {
   "cell_type": "code",
   "execution_count": 254,
   "metadata": {},
   "outputs": [
    {
     "name": "stdout",
     "output_type": "stream",
     "text": [
      "홍길동 & 이도령 | 결혼을 축하합니다\n"
     ]
    }
   ],
   "source": [
    "hong + lee"
   ]
  },
  {
   "cell_type": "code",
   "execution_count": 255,
   "metadata": {},
   "outputs": [
    {
     "name": "stdout",
     "output_type": "stream",
     "text": [
      "사람 ( 몸무게 60.5kg )\n"
     ]
    }
   ],
   "source": [
    "class Human( ):\n",
    "    '''인간'''\n",
    "    def __init__( self, name, weight ):\n",
    "        '''초기화 함수'''\n",
    "        self.name = name\n",
    "        self.weight = weight\n",
    "\n",
    "    def __str__( self ):\n",
    "        '''문자열화 함수'''\n",
    "        return \"{} ( 몸무게 {}kg )\".format( self.name, self.weight )\n",
    "\n",
    "person = Human( \"사람\", 60.5 ) # 초기화 함수 사용\n",
    "print( person ) # 문자열화 함수 사용"
   ]
  },
  {
   "cell_type": "code",
   "execution_count": 256,
   "metadata": {},
   "outputs": [],
   "source": [
    "hong = Person('홍길동', 20, 10000)\n",
    "lee = Person('이도령', 30, 1000)"
   ]
  },
  {
   "cell_type": "code",
   "execution_count": 257,
   "metadata": {},
   "outputs": [
    {
     "name": "stdout",
     "output_type": "stream",
     "text": [
      "홍길동이 이도령을 만났습니다.\n"
     ]
    }
   ],
   "source": [
    "hong.meet(lee)"
   ]
  },
  {
   "cell_type": "code",
   "execution_count": 258,
   "metadata": {},
   "outputs": [],
   "source": [
    "#가지고 있는 데이터를 클래스로 다루기\n",
    "data = [\n",
    "    {'name' : '사람1', 'age' : 20, 'money' : 1000},\n",
    "    {'name' : '사람2', 'age' : 30, 'money' : 2000},\n",
    "    {'name' : '사람3', 'age' : 40, 'money' : 3000},\n",
    "    {'name' : '사람4', 'age' : 50, 'money' : 9000}\n",
    "]"
   ]
  },
  {
   "cell_type": "code",
   "execution_count": 259,
   "metadata": {},
   "outputs": [
    {
     "data": {
      "text/plain": [
       "[{'name': '사람1', 'age': 20, 'money': 1000},\n",
       " {'name': '사람2', 'age': 30, 'money': 2000},\n",
       " {'name': '사람3', 'age': 40, 'money': 3000},\n",
       " {'name': '사람4', 'age': 50, 'money': 9000}]"
      ]
     },
     "execution_count": 259,
     "metadata": {},
     "output_type": "execute_result"
    }
   ],
   "source": [
    "data"
   ]
  },
  {
   "cell_type": "code",
   "execution_count": 260,
   "metadata": {},
   "outputs": [],
   "source": [
    "people = [\n",
    "    Person(person['name'], person['age'], person['money'])\n",
    "    for person\n",
    "    in data\n",
    "]"
   ]
  },
  {
   "cell_type": "code",
   "execution_count": 261,
   "metadata": {},
   "outputs": [
    {
     "name": "stdout",
     "output_type": "stream",
     "text": [
      "안녕하세요. 저는 40살 사람3 입니다.\n"
     ]
    }
   ],
   "source": [
    "people[2].introduce()"
   ]
  },
  {
   "cell_type": "code",
   "execution_count": 262,
   "metadata": {},
   "outputs": [
    {
     "name": "stdout",
     "output_type": "stream",
     "text": [
      "[사람1, 사람2, 사람3, 사람4]\n"
     ]
    }
   ],
   "source": [
    "print(people)"
   ]
  },
  {
   "cell_type": "code",
   "execution_count": 263,
   "metadata": {},
   "outputs": [],
   "source": [
    "# OOP 구현"
   ]
  },
  {
   "cell_type": "code",
   "execution_count": 264,
   "metadata": {},
   "outputs": [],
   "source": [
    "class Character():\n",
    "    def __init__(self, name, power, damage, item):\n",
    "        self.name = name\n",
    "        self.power = power\n",
    "        self.damage = damage\n",
    "        self.item = item\n",
    "        \n",
    "    def __repr__(self):\n",
    "        return self.name\n",
    "    \n",
    "heroes = []\n",
    "heroes.append(Character('아이언맨', 100, 100, {'weapon' : '레이저', 'gold' : 1000}))\n",
    "heroes.append(Character('울버린', 300, 90, {'weapon' : '갈퀴', 'gold' : 10}))\n",
    "heroes.append(Character('데드풀', 200, 50, {'weapon' : '장검', 'gold' : 20}))\n",
    "    \n",
    "monsters = []\n",
    "monsters.append(Character('고블린', 90, 30, {'gold': 50, 'weapon': '창'}))\n",
    "monsters.append(Character('드래곤', 200, 80, {'gold': 200, 'weapon': '화염'}))\n",
    "monsters.append(Character('뱀파이어', 80, 120, {'gold': 1000, 'weapon': '최면술'}))"
   ]
  },
  {
   "cell_type": "code",
   "execution_count": 265,
   "metadata": {},
   "outputs": [
    {
     "name": "stdout",
     "output_type": "stream",
     "text": [
      "[아이언맨, 울버린, 데드풀]\n",
      "[고블린, 드래곤, 뱀파이어]\n",
      "[울버린, 데드풀]\n"
     ]
    }
   ],
   "source": [
    "print(heroes)  # 히어로 리스트 확인\n",
    "print (monsters)  # 몬스터 리스트 확인\n",
    "del heroes[0]  # 히어로 리스트에서 아이언맨 삭제\n",
    "print(heroes)  # 히어로 리스트 재확인"
   ]
  },
  {
   "cell_type": "code",
   "execution_count": null,
   "metadata": {},
   "outputs": [],
   "source": []
  },
  {
   "cell_type": "code",
   "execution_count": 266,
   "metadata": {},
   "outputs": [],
   "source": [
    "class Animal():\n",
    "    def eat(self):\n",
    "        print('먹는다!!!')\n",
    "    def attack(self):\n",
    "        print('공격!!!')"
   ]
  },
  {
   "cell_type": "code",
   "execution_count": 267,
   "metadata": {},
   "outputs": [],
   "source": [
    "class Dog(Animal):\n",
    "    def bark(self):\n",
    "        print('왈왈')"
   ]
  },
  {
   "cell_type": "code",
   "execution_count": 268,
   "metadata": {},
   "outputs": [],
   "source": [
    "class Bird(Animal):\n",
    "    def fly(self):\n",
    "        print('날다')\n",
    "    def eat(self):\n",
    "        print('부리로 먹이를 쪼아 먹는다.')"
   ]
  },
  {
   "cell_type": "code",
   "execution_count": 269,
   "metadata": {},
   "outputs": [
    {
     "name": "stdout",
     "output_type": "stream",
     "text": [
      "왈왈\n"
     ]
    }
   ],
   "source": [
    "dog = Dog()\n",
    "dog.bark()"
   ]
  },
  {
   "cell_type": "code",
   "execution_count": 270,
   "metadata": {},
   "outputs": [
    {
     "name": "stdout",
     "output_type": "stream",
     "text": [
      "부리로 먹이를 쪼아 먹는다.\n"
     ]
    }
   ],
   "source": [
    "bird = Bird()\n",
    "bird.eat()"
   ]
  },
  {
   "cell_type": "markdown",
   "metadata": {},
   "source": [
    "### OOP 객체지향 언어 4가지 특징\n",
    "##### 추상화(Abstraction)\n",
    "- 공통의 속성이나 기능을 묶어 이름을 붙이는것 => 클래스 정의하는 것을 추상화\n",
    "\n",
    "##### 캡슐화(Encapsulation)\n",
    "- 변수와 함수를 하나로 묶어 외부에서 접근을 막고, 함수를 통해서만 접근하도록 한다 (은닉화)\n",
    "\n",
    "##### 상속(Inheritance)\n",
    "- 상위 개념의 특징을 하위 개념이 물려 받는것 => 재사용성\n",
    "\n",
    "##### 다형성(Polymorphism)\n",
    "- 부모 클래스로부터 물려받은 함수를 자식 클래스에서 오버라이딩하여 사용하는것"
   ]
  },
  {
   "cell_type": "code",
   "execution_count": null,
   "metadata": {},
   "outputs": [],
   "source": []
  },
  {
   "cell_type": "code",
   "execution_count": 271,
   "metadata": {},
   "outputs": [],
   "source": [
    "import pandas as pd"
   ]
  },
  {
   "cell_type": "code",
   "execution_count": 272,
   "metadata": {},
   "outputs": [],
   "source": [
    "df = pd.read_csv('./animals.csv', encoding='euc-kr')"
   ]
  },
  {
   "cell_type": "code",
   "execution_count": 273,
   "metadata": {},
   "outputs": [
    {
     "data": {
      "text/html": [
       "<div>\n",
       "<style scoped>\n",
       "    .dataframe tbody tr th:only-of-type {\n",
       "        vertical-align: middle;\n",
       "    }\n",
       "\n",
       "    .dataframe tbody tr th {\n",
       "        vertical-align: top;\n",
       "    }\n",
       "\n",
       "    .dataframe thead th {\n",
       "        text-align: right;\n",
       "    }\n",
       "</style>\n",
       "<table border=\"1\" class=\"dataframe\">\n",
       "  <thead>\n",
       "    <tr style=\"text-align: right;\">\n",
       "      <th></th>\n",
       "      <th>Korean Name</th>\n",
       "      <th>English Name</th>\n",
       "      <th>Size</th>\n",
       "    </tr>\n",
       "  </thead>\n",
       "  <tbody>\n",
       "    <tr>\n",
       "      <th>0</th>\n",
       "      <td>강아지</td>\n",
       "      <td>dog</td>\n",
       "      <td>중형</td>\n",
       "    </tr>\n",
       "    <tr>\n",
       "      <th>1</th>\n",
       "      <td>고양이</td>\n",
       "      <td>cat</td>\n",
       "      <td>소형</td>\n",
       "    </tr>\n",
       "    <tr>\n",
       "      <th>2</th>\n",
       "      <td>물고기</td>\n",
       "      <td>fish</td>\n",
       "      <td>초소형</td>\n",
       "    </tr>\n",
       "    <tr>\n",
       "      <th>3</th>\n",
       "      <td>원숭이</td>\n",
       "      <td>monkey</td>\n",
       "      <td>대형</td>\n",
       "    </tr>\n",
       "  </tbody>\n",
       "</table>\n",
       "</div>"
      ],
      "text/plain": [
       "  Korean Name  English Name  Size\n",
       "0         강아지           dog    중형\n",
       "1         고양이           cat    소형\n",
       "2         물고기          fish   초소형\n",
       "3         원숭이        monkey    대형"
      ]
     },
     "execution_count": 273,
     "metadata": {},
     "output_type": "execute_result"
    }
   ],
   "source": [
    "df  # __repr__"
   ]
  },
  {
   "cell_type": "code",
   "execution_count": 274,
   "metadata": {},
   "outputs": [
    {
     "name": "stdout",
     "output_type": "stream",
     "text": [
      "  Korean Name  English Name  Size\n",
      "0         강아지           dog    중형\n",
      "1         고양이           cat    소형\n",
      "2         물고기          fish   초소형\n",
      "3         원숭이        monkey    대형\n"
     ]
    }
   ],
   "source": [
    "print(df)  # __str__"
   ]
  },
  {
   "cell_type": "markdown",
   "metadata": {},
   "source": [
    "> hi"
   ]
  },
  {
   "cell_type": "code",
   "execution_count": null,
   "metadata": {},
   "outputs": [],
   "source": []
  }
 ],
 "metadata": {
  "kernelspec": {
   "display_name": "Python 3",
   "language": "python",
   "name": "python3"
  },
  "language_info": {
   "codemirror_mode": {
    "name": "ipython",
    "version": 3
   },
   "file_extension": ".py",
   "mimetype": "text/x-python",
   "name": "python",
   "nbconvert_exporter": "python",
   "pygments_lexer": "ipython3",
   "version": "3.8.6rc1"
  }
 },
 "nbformat": 4,
 "nbformat_minor": 4
}
