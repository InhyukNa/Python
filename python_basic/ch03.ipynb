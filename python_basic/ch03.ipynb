{
 "cells": [
  {
   "cell_type": "markdown",
   "metadata": {},
   "source": [
    "#### \\*args,  \\**kwargs를 이용한 함수 정의하기"
   ]
  },
  {
   "cell_type": "code",
   "execution_count": null,
   "metadata": {},
   "outputs": [],
   "source": [
    "한줄 if 문 과 List Comprehension을 사용하여\n",
    "1. 2의 배수일 경우에는 \"two\" 라는 텍스트 [\"\",\"two\",\"\",\"two\",...]\n",
    "2. 3의 배수일 경우에는 \"three\" 텍스트[\"\",\"\",\"three\",\"\",\"\",\"three\",...]"
   ]
  },
  {
   "cell_type": "code",
   "execution_count": 1,
   "metadata": {},
   "outputs": [
    {
     "data": {
      "text/plain": [
       "'양수입니다.'"
      ]
     },
     "execution_count": 1,
     "metadata": {},
     "output_type": "execute_result"
    }
   ],
   "source": [
    "# [참일때의 값] if[조건문] else [거짓일때의 값]\n",
    "\"양수입니다.\" if 3>0 else \"음수입니다.\""
   ]
  },
  {
   "cell_type": "code",
   "execution_count": 2,
   "metadata": {},
   "outputs": [
    {
     "data": {
      "text/plain": [
       "False"
      ]
     },
     "execution_count": 2,
     "metadata": {},
     "output_type": "execute_result"
    }
   ],
   "source": [
    "10 % 3 == 0 # 3의 배수 % 는 나머지 연산자."
   ]
  },
  {
   "cell_type": "code",
   "execution_count": 6,
   "metadata": {},
   "outputs": [
    {
     "data": {
      "text/plain": [
       "['', 'two', '', 'two', '', 'two', '', 'two', '', 'two']"
      ]
     },
     "execution_count": 6,
     "metadata": {},
     "output_type": "execute_result"
    }
   ],
   "source": [
    "[\n",
    "    \"two\" if (i+1) % 2 == 0 else \"\"    # i  =>[0,1,2,3,4,5,6,7,8,9]\n",
    "    for i\n",
    "    in range(10)\n",
    "]"
   ]
  },
  {
   "cell_type": "code",
   "execution_count": null,
   "metadata": {},
   "outputs": [],
   "source": [
    "[\"\",\"two\",\"three\",\"two\",\"\",\"twothree\",...]"
   ]
  },
  {
   "cell_type": "code",
   "execution_count": 7,
   "metadata": {},
   "outputs": [
    {
     "data": {
      "text/plain": [
       "['', '', 'three', '', '', 'three', '', '', 'three', '']"
      ]
     },
     "execution_count": 7,
     "metadata": {},
     "output_type": "execute_result"
    }
   ],
   "source": [
    "[\n",
    "    \"three\" if (i+1) % 3 == 0 else \"\"    # i  =>[0,1,2,3,4,5,6,7,8,9]\n",
    "    for i\n",
    "    in range(10)\n",
    "]"
   ]
  },
  {
   "cell_type": "code",
   "execution_count": 10,
   "metadata": {},
   "outputs": [
    {
     "data": {
      "text/plain": [
       "['',\n",
       " 'two',\n",
       " 'three',\n",
       " 'two',\n",
       " '',\n",
       " 'two',\n",
       " '',\n",
       " 'two',\n",
       " 'three',\n",
       " 'two',\n",
       " '',\n",
       " 'two',\n",
       " '',\n",
       " 'two',\n",
       " 'three',\n",
       " 'two',\n",
       " '',\n",
       " 'two',\n",
       " '',\n",
       " 'two']"
      ]
     },
     "execution_count": 10,
     "metadata": {},
     "output_type": "execute_result"
    }
   ],
   "source": [
    "[\n",
    "   \"two\" if (i+1) % 2 == 0 else \"\" + \"three\" if (i+1) % 3 == 0 else \"\"\n",
    "    for i\n",
    "    in range(20)\n",
    "]"
   ]
  },
  {
   "cell_type": "code",
   "execution_count": 11,
   "metadata": {},
   "outputs": [
    {
     "data": {
      "text/plain": [
       "['',\n",
       " 'two',\n",
       " 'three',\n",
       " 'two',\n",
       " '',\n",
       " 'twothree',\n",
       " '',\n",
       " 'two',\n",
       " 'three',\n",
       " 'two',\n",
       " '',\n",
       " 'twothree',\n",
       " '',\n",
       " 'two',\n",
       " 'three',\n",
       " 'two',\n",
       " '',\n",
       " 'twothree',\n",
       " '',\n",
       " 'two']"
      ]
     },
     "execution_count": 11,
     "metadata": {},
     "output_type": "execute_result"
    }
   ],
   "source": [
    "[\n",
    "   (\"two\" if (i+1) % 2 == 0 else \"\") + (\"three\" if (i+1) % 3 == 0 else \"\")\n",
    "    for i\n",
    "    in range(20)\n",
    "]"
   ]
  },
  {
   "cell_type": "code",
   "execution_count": 12,
   "metadata": {},
   "outputs": [
    {
     "data": {
      "text/plain": [
       "['',\n",
       " 'two',\n",
       " 'three',\n",
       " 'two',\n",
       " '',\n",
       " 'twothree',\n",
       " '',\n",
       " 'two',\n",
       " 'three',\n",
       " 'two',\n",
       " '',\n",
       " 'twothree',\n",
       " '',\n",
       " 'two',\n",
       " 'three',\n",
       " 'two',\n",
       " '',\n",
       " 'twothree',\n",
       " '',\n",
       " 'two']"
      ]
     },
     "execution_count": 12,
     "metadata": {},
     "output_type": "execute_result"
    }
   ],
   "source": [
    "# 코드 가독성\n",
    "\n",
    "   (\"two\" if (i+1) % 2 == 0 else \"\") +\\\n",
    "        (\"three\" if (i+1) % 3 == 0 else \"\")\n",
    "    for i\n",
    "    in range(20)\n",
    "]"
   ]
  },
  {
   "cell_type": "code",
   "execution_count": null,
   "metadata": {},
   "outputs": [],
   "source": [
    "#### 함수 정의 \n",
    "- 남들이 만들어둔 편리한 함수를 사용한다.\n",
    "- 함수 사용할때 매개변수에 인자를 입력하게 되는데 인자를 옵션(인자있을 수 있고 없을 수 있다)\n",
    "#### *args => 여러개의 arguments 의 인자를 하나로 묶는 기능을 한다.( 함수선언할때 별은 pack, 한수실행할때 *은 unpack 기능한다.)\n",
    "#### **kwargs => key word args , "
   ]
  },
  {
   "cell_type": "code",
   "execution_count": 13,
   "metadata": {},
   "outputs": [
    {
     "data": {
      "text/plain": [
       "30"
      ]
     },
     "execution_count": 13,
     "metadata": {},
     "output_type": "execute_result"
    }
   ],
   "source": [
    "def get_sum(a, b, c):\n",
    "    return a + b +c\n",
    "get_sum(10,10,10)"
   ]
  },
  {
   "cell_type": "code",
   "execution_count": 17,
   "metadata": {},
   "outputs": [
    {
     "name": "stdout",
     "output_type": "stream",
     "text": [
      "(1, 2, 3, 4, 5)\n"
     ]
    },
    {
     "data": {
      "text/plain": [
       "15"
      ]
     },
     "execution_count": 17,
     "metadata": {},
     "output_type": "execute_result"
    }
   ],
   "source": [
    "def get_sum(*args):\n",
    "    print(args)     # tuple \n",
    "    result =0\n",
    "    for arg in args:\n",
    "        result += arg\n",
    "    return result\n",
    "get_sum(1,2,3,4,5)"
   ]
  },
  {
   "cell_type": "code",
   "execution_count": 18,
   "metadata": {},
   "outputs": [
    {
     "name": "stdout",
     "output_type": "stream",
     "text": [
      "([1, 2, 3, 45],)\n"
     ]
    },
    {
     "ename": "TypeError",
     "evalue": "unsupported operand type(s) for +=: 'int' and 'list'",
     "output_type": "error",
     "traceback": [
      "\u001b[1;31m---------------------------------------------------------------------------\u001b[0m",
      "\u001b[1;31mTypeError\u001b[0m                                 Traceback (most recent call last)",
      "\u001b[1;32m<ipython-input-18-dfd69cd8ee64>\u001b[0m in \u001b[0;36m<module>\u001b[1;34m\u001b[0m\n\u001b[1;32m----> 1\u001b[1;33m \u001b[0mget_sum\u001b[0m\u001b[1;33m(\u001b[0m\u001b[1;33m[\u001b[0m\u001b[1;36m1\u001b[0m\u001b[1;33m,\u001b[0m\u001b[1;36m2\u001b[0m\u001b[1;33m,\u001b[0m\u001b[1;36m3\u001b[0m\u001b[1;33m,\u001b[0m\u001b[1;36m45\u001b[0m\u001b[1;33m]\u001b[0m\u001b[1;33m)\u001b[0m\u001b[1;33m\u001b[0m\u001b[1;33m\u001b[0m\u001b[0m\n\u001b[0m",
      "\u001b[1;32m<ipython-input-17-496630689286>\u001b[0m in \u001b[0;36mget_sum\u001b[1;34m(*args)\u001b[0m\n\u001b[0;32m      3\u001b[0m     \u001b[0mresult\u001b[0m \u001b[1;33m=\u001b[0m\u001b[1;36m0\u001b[0m\u001b[1;33m\u001b[0m\u001b[1;33m\u001b[0m\u001b[0m\n\u001b[0;32m      4\u001b[0m     \u001b[1;32mfor\u001b[0m \u001b[0marg\u001b[0m \u001b[1;32min\u001b[0m \u001b[0margs\u001b[0m\u001b[1;33m:\u001b[0m\u001b[1;33m\u001b[0m\u001b[1;33m\u001b[0m\u001b[0m\n\u001b[1;32m----> 5\u001b[1;33m         \u001b[0mresult\u001b[0m \u001b[1;33m+=\u001b[0m \u001b[0marg\u001b[0m\u001b[1;33m\u001b[0m\u001b[1;33m\u001b[0m\u001b[0m\n\u001b[0m\u001b[0;32m      6\u001b[0m     \u001b[1;32mreturn\u001b[0m \u001b[0mresult\u001b[0m\u001b[1;33m\u001b[0m\u001b[1;33m\u001b[0m\u001b[0m\n\u001b[0;32m      7\u001b[0m \u001b[0mget_sum\u001b[0m\u001b[1;33m(\u001b[0m\u001b[1;36m1\u001b[0m\u001b[1;33m,\u001b[0m\u001b[1;36m2\u001b[0m\u001b[1;33m,\u001b[0m\u001b[1;36m3\u001b[0m\u001b[1;33m,\u001b[0m\u001b[1;36m4\u001b[0m\u001b[1;33m,\u001b[0m\u001b[1;36m5\u001b[0m\u001b[1;33m)\u001b[0m\u001b[1;33m\u001b[0m\u001b[1;33m\u001b[0m\u001b[0m\n",
      "\u001b[1;31mTypeError\u001b[0m: unsupported operand type(s) for +=: 'int' and 'list'"
     ]
    }
   ],
   "source": [
    "get_sum([1,2,3,45])  # tuple의 첫번째 인자가 리스트이다."
   ]
  },
  {
   "cell_type": "code",
   "execution_count": 20,
   "metadata": {},
   "outputs": [
    {
     "name": "stdout",
     "output_type": "stream",
     "text": [
      "(1, 2, 3, 4, 5)\n"
     ]
    },
    {
     "data": {
      "text/plain": [
       "15"
      ]
     },
     "execution_count": 20,
     "metadata": {},
     "output_type": "execute_result"
    }
   ],
   "source": [
    "data=[1,2,3,4,5]\n",
    "get_sum(*data)   # 함수 호출 할때 *은 uppack"
   ]
  },
  {
   "cell_type": "code",
   "execution_count": null,
   "metadata": {},
   "outputs": [],
   "source": [
    "#### *args  (여러개 인자를 => tuple)\n",
    "#### **kwargs (여러개의 인자인데 이름이 있다. => Dict)"
   ]
  },
  {
   "cell_type": "code",
   "execution_count": 31,
   "metadata": {},
   "outputs": [],
   "source": [
    "def hello(**kwargs): \n",
    "    print(kwargs)"
   ]
  },
  {
   "cell_type": "code",
   "execution_count": 24,
   "metadata": {},
   "outputs": [
    {
     "name": "stdout",
     "output_type": "stream",
     "text": [
      "{'name': 'hong', 'email': 'hong@gmail.com'}\n"
     ]
    }
   ],
   "source": [
    "hello(name=\"hong\", email=\"hong@gmail.com\")"
   ]
  },
  {
   "cell_type": "code",
   "execution_count": 25,
   "metadata": {},
   "outputs": [],
   "source": [
    "student = {\n",
    "    \"name\":\"hong\",\n",
    "    \"email\":\"hong@gmail.com\",\n",
    "}"
   ]
  },
  {
   "cell_type": "code",
   "execution_count": 27,
   "metadata": {},
   "outputs": [
    {
     "ename": "TypeError",
     "evalue": "hello() takes 0 positional arguments but 1 was given",
     "output_type": "error",
     "traceback": [
      "\u001b[1;31m---------------------------------------------------------------------------\u001b[0m",
      "\u001b[1;31mTypeError\u001b[0m                                 Traceback (most recent call last)",
      "\u001b[1;32m<ipython-input-27-2ab67669d0fe>\u001b[0m in \u001b[0;36m<module>\u001b[1;34m\u001b[0m\n\u001b[1;32m----> 1\u001b[1;33m \u001b[0mhello\u001b[0m\u001b[1;33m(\u001b[0m\u001b[0mstudent\u001b[0m\u001b[1;33m)\u001b[0m\u001b[1;33m\u001b[0m\u001b[1;33m\u001b[0m\u001b[0m\n\u001b[0m",
      "\u001b[1;31mTypeError\u001b[0m: hello() takes 0 positional arguments but 1 was given"
     ]
    }
   ],
   "source": [
    "hello(student)"
   ]
  },
  {
   "cell_type": "code",
   "execution_count": 32,
   "metadata": {},
   "outputs": [
    {
     "name": "stdout",
     "output_type": "stream",
     "text": [
      "{'name': 'hong', 'email': 'hong@gmail.com'}\n"
     ]
    }
   ],
   "source": [
    "hello(**student)"
   ]
  },
  {
   "cell_type": "code",
   "execution_count": 33,
   "metadata": {},
   "outputs": [
    {
     "name": "stdout",
     "output_type": "stream",
     "text": [
      "{'name': 'hong', 'email': 'hong@gmail.com'}\n"
     ]
    }
   ],
   "source": [
    "hello(**{\"name\":\"hong\", \"email\": \"hong@gmail.com\"})"
   ]
  },
  {
   "cell_type": "code",
   "execution_count": 34,
   "metadata": {},
   "outputs": [],
   "source": [
    "def hello(*args, **kwargs):\n",
    "    print(args)   # 이름 없는 매개변수\n",
    "    print(kwargs) # 이름 있는 매개변수"
   ]
  },
  {
   "cell_type": "code",
   "execution_count": 35,
   "metadata": {},
   "outputs": [
    {
     "name": "stdout",
     "output_type": "stream",
     "text": [
      "(1, 2, 3)\n",
      "{'name': 'hong'}\n"
     ]
    }
   ],
   "source": [
    "hello(1,2,3,name=\"hong\")"
   ]
  },
  {
   "cell_type": "code",
   "execution_count": null,
   "metadata": {},
   "outputs": [],
   "source": [
    "자기를 소개하는 함수\n",
    "필수 정보는 : 이름, 이메일\n",
    "선택 정보는 사용자가 선택해서 입력할 수 있도록 한다."
   ]
  },
  {
   "cell_type": "code",
   "execution_count": 40,
   "metadata": {},
   "outputs": [],
   "source": [
    "def info(name, email, *args, **kwargs):\n",
    "    print(\"안녕하세요, \" + name + \"입니다\")\n",
    "    print(\"이메일은 \" + email)\n",
    "    print(\"------------------------------\")\n",
    "    print(kwargs)\n",
    "    print(\"------------------------------\")\n"
   ]
  },
  {
   "cell_type": "code",
   "execution_count": 41,
   "metadata": {},
   "outputs": [
    {
     "name": "stdout",
     "output_type": "stream",
     "text": [
      "안녕하세요, 홍길동입니다\n",
      "이메일은 hong@gmail.com\n",
      "------------------------------\n",
      "{'phonenumber': '01012345678'}\n",
      "------------------------------\n"
     ]
    }
   ],
   "source": [
    "info(\"홍길동\", 'hong@gmail.com', phonenumber='01012345678')"
   ]
  },
  {
   "cell_type": "code",
   "execution_count": 42,
   "metadata": {},
   "outputs": [
    {
     "name": "stdout",
     "output_type": "stream",
     "text": [
      "('홍길동',)\n",
      "{}\n"
     ]
    }
   ],
   "source": [
    "hello(\"홍길동\")"
   ]
  },
  {
   "cell_type": "code",
   "execution_count": 43,
   "metadata": {},
   "outputs": [
    {
     "name": "stdout",
     "output_type": "stream",
     "text": [
      "('홍길동',)\n",
      "{'phonenumber': '1111111'}\n"
     ]
    }
   ],
   "source": [
    "hello(\"홍길동\", phonenumber=\"1111111\")"
   ]
  },
  {
   "cell_type": "code",
   "execution_count": null,
   "metadata": {},
   "outputs": [],
   "source": [
    "함수를 반환하는 함수 -- SMS 발송\n",
    "\n",
    "1. 데이터 크롤링\n",
    "2. 데잍 전처리\n",
    "3. 데이터 엑셀로 저장\n",
    "4. 데이터를 이멜로 보내기\n",
    "\n",
    "DECORATOR  -자료 필요함......."
   ]
  },
  {
   "cell_type": "markdown",
   "metadata": {},
   "source": [
    "#### CLASS"
   ]
  },
  {
   "cell_type": "code",
   "execution_count": 1,
   "metadata": {},
   "outputs": [],
   "source": [
    "class Person():\n",
    "    name = \"홍길동\"\n",
    "    age = 20\n",
    "    \n",
    "    def introduce(self):\n",
    "        print(\"안녕하세요, 저는 {age}살 {name}  입니다.\".format(age=self.age, name=self.name))"
   ]
  },
  {
   "cell_type": "code",
   "execution_count": 89,
   "metadata": {},
   "outputs": [],
   "source": [
    " class Person():  # class Person extends Object   => toString()\n",
    "    \n",
    "        def __init__(self, name, age, money):\n",
    "            self.name = name\n",
    "            self.age = age\n",
    "            self.money = money\n",
    "    \n",
    "        def __str__(self):   # toString()\n",
    "            return self.name\n",
    "        \n",
    "        def __repr__(self):\n",
    "            return self.name\n",
    "          \n",
    "        def __add__(self, partner):   # 홍길동 & 이도령  | 결혼을 축하합니다. hong + lee\n",
    "            print(\"{name} & {partner_name} | 결혼을 축하합니다\".format(\n",
    "                name = self.name,\n",
    "                partner_name = partner.name,\n",
    "            ))\n",
    "        \n",
    "        def introduce(self):\n",
    "            print(\"안녕하세요, 저는 {age}살 {name} 입니다.\" .format(age=self.age, name=self.name))\n",
    "        \n",
    "        def meet(self, another): # 홍길동이 이도령을 만났습니다.\n",
    "            print(\"{myname}이 {yourname} 을 만났습니다.\".format(\n",
    "                myname = self.name,\n",
    "                yourname = another.name,\n",
    "            )) \n",
    "        def give(self, partner, amount):# 홍길동 재산중에 2000원을 이도령에게 기부\n",
    "            self.money -= amount\n",
    "            partner.money += amount"
   ]
  },
  {
   "cell_type": "code",
   "execution_count": 90,
   "metadata": {},
   "outputs": [],
   "source": [
    "lee = Person(\"이도령\", 30, 1000)"
   ]
  },
  {
   "cell_type": "code",
   "execution_count": 91,
   "metadata": {},
   "outputs": [
    {
     "name": "stdout",
     "output_type": "stream",
     "text": [
      "이도령\n"
     ]
    }
   ],
   "source": [
    "print(lee)"
   ]
  },
  {
   "cell_type": "code",
   "execution_count": 92,
   "metadata": {},
   "outputs": [
    {
     "name": "stdout",
     "output_type": "stream",
     "text": [
      "안녕하세요, 저는 30살 이도령 입니다.\n"
     ]
    }
   ],
   "source": [
    "lee.introduce()"
   ]
  },
  {
   "cell_type": "code",
   "execution_count": 93,
   "metadata": {},
   "outputs": [],
   "source": [
    " # 홍길동이 이도령을 만났습니다.\n",
    "hong = Person(\"홍길동\", 20, 10000)"
   ]
  },
  {
   "cell_type": "code",
   "execution_count": 94,
   "metadata": {},
   "outputs": [
    {
     "name": "stdout",
     "output_type": "stream",
     "text": [
      "홍길동이 이도령 을 만났습니다.\n"
     ]
    }
   ],
   "source": [
    "hong.meet(lee)"
   ]
  },
  {
   "cell_type": "code",
   "execution_count": 95,
   "metadata": {},
   "outputs": [],
   "source": [
    "# 홍길동 재산중에 2000원을 이도령에게 기부\n",
    "hong.give(lee,2000)"
   ]
  },
  {
   "cell_type": "code",
   "execution_count": 96,
   "metadata": {},
   "outputs": [
    {
     "data": {
      "text/plain": [
       "8000"
      ]
     },
     "execution_count": 96,
     "metadata": {},
     "output_type": "execute_result"
    }
   ],
   "source": [
    "hong.money"
   ]
  },
  {
   "cell_type": "code",
   "execution_count": 64,
   "metadata": {},
   "outputs": [
    {
     "data": {
      "text/plain": [
       "3000"
      ]
     },
     "execution_count": 64,
     "metadata": {},
     "output_type": "execute_result"
    }
   ],
   "source": [
    "lee.money"
   ]
  },
  {
   "cell_type": "markdown",
   "metadata": {},
   "source": [
    "#### Q4. 이도령과 홍길동의 결혼을 축하합니다.를 출력하시오.\n",
    "- def \\_\\_add\\_\\_ override(재정의)\n",
    "\n",
    "def \\_\\_add\\_\\_(self, partner):  \n",
    "&nbsp;&nbsp;&nbsp;&nbsp;&nbsp;&nbsp;      print(\"{name} & {partner_name} | 결혼을 축하합니다\".format(\n",
    "      &nbsp;&nbsp;&nbsp;&nbsp;&nbsp;&nbsp;name = self.name,\n",
    "      &nbsp;&nbsp;&nbsp;&nbsp;&nbsp;&nbsp;partner_name = partner.name,\n",
    "      &nbsp;&nbsp;&nbsp;&nbsp;&nbsp;&nbsp;))\n",
    " "
   ]
  },
  {
   "cell_type": "code",
   "execution_count": 97,
   "metadata": {},
   "outputs": [],
   "source": [
    "# Person 클래스의 오브젝트 생성 데이터\n",
    "data=[\n",
    "    {\"name\":\"사람0\",\"age\":20, \"money\":1000},\n",
    "    {\"name\":\"사람1\",\"age\":30, \"money\":2000},\n",
    "    {\"name\":\"사람2\",\"age\":40, \"money\":3000},\n",
    "    {\"name\":\"사람3\",\"age\":50, \"money\":9000},\n",
    "]"
   ]
  },
  {
   "cell_type": "code",
   "execution_count": 98,
   "metadata": {},
   "outputs": [
    {
     "data": {
      "text/plain": [
       "[{'name': '사람0', 'age': 20, 'money': 1000},\n",
       " {'name': '사람1', 'age': 30, 'money': 2000},\n",
       " {'name': '사람2', 'age': 40, 'money': 3000},\n",
       " {'name': '사람3', 'age': 50, 'money': 9000}]"
      ]
     },
     "execution_count": 98,
     "metadata": {},
     "output_type": "execute_result"
    }
   ],
   "source": [
    "data"
   ]
  },
  {
   "cell_type": "code",
   "execution_count": 99,
   "metadata": {},
   "outputs": [],
   "source": [
    "people = [\n",
    "Person(person['name'], person['age'], person['money'])\n",
    "for person\n",
    "in data\n",
    "]"
   ]
  },
  {
   "cell_type": "code",
   "execution_count": 100,
   "metadata": {},
   "outputs": [
    {
     "name": "stdout",
     "output_type": "stream",
     "text": [
      "안녕하세요, 저는 40살 사람2 입니다.\n"
     ]
    }
   ],
   "source": [
    "people[2].introduce()"
   ]
  },
  {
   "cell_type": "code",
   "execution_count": 101,
   "metadata": {},
   "outputs": [],
   "source": [
    "del people[0]"
   ]
  },
  {
   "cell_type": "code",
   "execution_count": 102,
   "metadata": {},
   "outputs": [
    {
     "name": "stdout",
     "output_type": "stream",
     "text": [
      "[사람1, 사람2, 사람3]\n"
     ]
    }
   ],
   "source": [
    "print(people)\n"
   ]
  },
  {
   "cell_type": "markdown",
   "metadata": {},
   "source": [
    "### Q5. \"Character\" 라는 클래스를 사용하여 OOP를 구현해 보세요.\n",
    "- 속성 : name, health, damage, inventory\n",
    "\n",
    "- Character 클래스의 오브젝트 생성\n",
    "    - heros 리스트\n",
    "    - monsters 리스트\n",
    "    \n",
    "- 히어로 리스트 출력\n",
    "- 몬스터 리스트 출력"
   ]
  },
  {
   "cell_type": "code",
   "execution_count": 113,
   "metadata": {},
   "outputs": [
    {
     "name": "stdout",
     "output_type": "stream",
     "text": [
      "[아이언맨, 데드풀]\n"
     ]
    }
   ],
   "source": [
    "class Character(): \n",
    "    \n",
    "    def __init__(self, name, power, damage, item):\n",
    "        self.name = name\n",
    "        self.power = power\n",
    "        self.damage = damage\n",
    "        self.item = item\n",
    "    \n",
    "    def __repr__(self):\n",
    "        return self.name\n",
    "    \n",
    "#     Character 클래스의 오브젝트 생성\n",
    "heroes = []\n",
    "heroes.append(Character('아이언맨', 300, 100,{'weapon':'레이저','gold':100 }))\n",
    "heroes.append(Character('울버린', 200, 90,{'weapon':'갈퀴', 'gold':10}))\n",
    "heroes.append(Character('데드풀', 100, 50,{'weapon':'장검', 'gold':20}))\n",
    "\n",
    "monsters = []\n",
    "monsters.append(Character('드래곤',500, 100,{'weapon':'불','gold':100 }))\n",
    "monsters.append(Character('뱀파이어',400, 80,{'weapon':'이빨','gold':90 }))\n",
    "monsters.append(Character('고블린',100, 10,{'weapon':'창','gold':10 }))\n",
    "\n",
    "del heroes[1]\n",
    "print(heroes)"
   ]
  },
  {
   "cell_type": "code",
   "execution_count": 112,
   "metadata": {},
   "outputs": [
    {
     "name": "stdout",
     "output_type": "stream",
     "text": [
      "[드래곤, 뱀파이어, 고블린]\n"
     ]
    }
   ],
   "source": [
    "print(monsters)"
   ]
  },
  {
   "cell_type": "markdown",
   "metadata": {},
   "source": [
    "### Triangle Class \n",
    "- State : height, width\n",
    "- Behavior : area(삼각형 넓이 구하기) is_bigger (다른 삼각형과 비교) "
   ]
  },
  {
   "cell_type": "code",
   "execution_count": 1,
   "metadata": {},
   "outputs": [],
   "source": [
    "    class Triangle():\n",
    "    \n",
    "        def __init__(self, width, height):\n",
    "            self.width = width\n",
    "            self.height = height\n",
    "\n",
    "        def __repr__(self):\n",
    "            return \"( {width}, {height} ) Triangle\".format(\n",
    "                width = self.width,\n",
    "                height = self.height,\n",
    "            )\n",
    "        def area(self):\n",
    "            return self.width * self.height / 2\n",
    "\n",
    "        def is_bigger_than(self, other):\n",
    "            return self.area() > other.area()"
   ]
  },
  {
   "cell_type": "code",
   "execution_count": 2,
   "metadata": {},
   "outputs": [],
   "source": [
    "t1 = Triangle(10, 20)"
   ]
  },
  {
   "cell_type": "code",
   "execution_count": 3,
   "metadata": {},
   "outputs": [],
   "source": [
    "t2 = Triangle(20,40)"
   ]
  },
  {
   "cell_type": "code",
   "execution_count": 4,
   "metadata": {},
   "outputs": [
    {
     "data": {
      "text/plain": [
       "False"
      ]
     },
     "execution_count": 4,
     "metadata": {},
     "output_type": "execute_result"
    }
   ],
   "source": [
    "t1.is_bigger_than(t2)"
   ]
  },
  {
   "cell_type": "code",
   "execution_count": 5,
   "metadata": {},
   "outputs": [],
   "source": [
    "def hello1():\n",
    "    print(\"hello\")\n",
    "\n",
    "def hello2():\n",
    "    return \"hello\""
   ]
  },
  {
   "cell_type": "code",
   "execution_count": 6,
   "metadata": {},
   "outputs": [
    {
     "name": "stdout",
     "output_type": "stream",
     "text": [
      "hello\n"
     ]
    }
   ],
   "source": [
    "hello1_result = hello1()"
   ]
  },
  {
   "cell_type": "code",
   "execution_count": 7,
   "metadata": {},
   "outputs": [],
   "source": [
    "hello2_result = hello2()"
   ]
  },
  {
   "cell_type": "code",
   "execution_count": 8,
   "metadata": {},
   "outputs": [],
   "source": [
    "hello1_result   # None"
   ]
  },
  {
   "cell_type": "code",
   "execution_count": 9,
   "metadata": {},
   "outputs": [
    {
     "data": {
      "text/plain": [
       "'hello'"
      ]
     },
     "execution_count": 9,
     "metadata": {},
     "output_type": "execute_result"
    }
   ],
   "source": [
    "hello2_result"
   ]
  },
  {
   "cell_type": "code",
   "execution_count": 10,
   "metadata": {},
   "outputs": [],
   "source": [
    "import pandas"
   ]
  },
  {
   "cell_type": "code",
   "execution_count": 11,
   "metadata": {},
   "outputs": [],
   "source": [
    "df = pandas.read_csv(\"./animals.csv\", encoding='euc-kr')"
   ]
  },
  {
   "cell_type": "code",
   "execution_count": 12,
   "metadata": {},
   "outputs": [
    {
     "data": {
      "text/html": [
       "<div>\n",
       "<style scoped>\n",
       "    .dataframe tbody tr th:only-of-type {\n",
       "        vertical-align: middle;\n",
       "    }\n",
       "\n",
       "    .dataframe tbody tr th {\n",
       "        vertical-align: top;\n",
       "    }\n",
       "\n",
       "    .dataframe thead th {\n",
       "        text-align: right;\n",
       "    }\n",
       "</style>\n",
       "<table border=\"1\" class=\"dataframe\">\n",
       "  <thead>\n",
       "    <tr style=\"text-align: right;\">\n",
       "      <th></th>\n",
       "      <th>Korean Name</th>\n",
       "      <th>English Name</th>\n",
       "      <th>Size</th>\n",
       "    </tr>\n",
       "  </thead>\n",
       "  <tbody>\n",
       "    <tr>\n",
       "      <th>0</th>\n",
       "      <td>강아지</td>\n",
       "      <td>dog</td>\n",
       "      <td>중형</td>\n",
       "    </tr>\n",
       "    <tr>\n",
       "      <th>1</th>\n",
       "      <td>고양이</td>\n",
       "      <td>cat</td>\n",
       "      <td>소형</td>\n",
       "    </tr>\n",
       "    <tr>\n",
       "      <th>2</th>\n",
       "      <td>물고기</td>\n",
       "      <td>fish</td>\n",
       "      <td>초소형</td>\n",
       "    </tr>\n",
       "    <tr>\n",
       "      <th>3</th>\n",
       "      <td>원숭이</td>\n",
       "      <td>monkey</td>\n",
       "      <td>대형</td>\n",
       "    </tr>\n",
       "  </tbody>\n",
       "</table>\n",
       "</div>"
      ],
      "text/plain": [
       "  Korean Name  English Name  Size\n",
       "0         강아지           dog    중형\n",
       "1         고양이           cat    소형\n",
       "2         물고기          fish   초소형\n",
       "3         원숭이        monkey    대형"
      ]
     },
     "execution_count": 12,
     "metadata": {},
     "output_type": "execute_result"
    }
   ],
   "source": [
    "df   # __repr__"
   ]
  },
  {
   "cell_type": "code",
   "execution_count": 13,
   "metadata": {},
   "outputs": [
    {
     "name": "stdout",
     "output_type": "stream",
     "text": [
      "  Korean Name  English Name  Size\n",
      "0         강아지           dog    중형\n",
      "1         고양이           cat    소형\n",
      "2         물고기          fish   초소형\n",
      "3         원숭이        monkey    대형\n"
     ]
    }
   ],
   "source": [
    "print(df)  # ___str___"
   ]
  },
  {
   "cell_type": "code",
   "execution_count": 14,
   "metadata": {},
   "outputs": [],
   "source": [
    "# 객체의 상속(Inheritance)\n",
    "class Animal():\n",
    "    \n",
    "    def eat(self):\n",
    "        print(\"먹는다!!!\")\n",
    "    def attack(self):\n",
    "        print(\"공격!!!\")"
   ]
  },
  {
   "cell_type": "code",
   "execution_count": 15,
   "metadata": {},
   "outputs": [],
   "source": [
    "class Dog(Animal):\n",
    "    def bark(self):\n",
    "        print(\"왈왈\")"
   ]
  },
  {
   "cell_type": "code",
   "execution_count": 16,
   "metadata": {},
   "outputs": [],
   "source": [
    "class Bird(Animal):\n",
    "    def fly(self):\n",
    "        print(\"날다\")\n",
    "    def eat(self):\n",
    "        print(\"부리로 먹이를 쪼아 먹는다.\")"
   ]
  },
  {
   "cell_type": "code",
   "execution_count": 17,
   "metadata": {},
   "outputs": [
    {
     "name": "stdout",
     "output_type": "stream",
     "text": [
      "왈왈\n"
     ]
    }
   ],
   "source": [
    "dog = Dog()\n",
    "dog.bark()"
   ]
  },
  {
   "cell_type": "code",
   "execution_count": 18,
   "metadata": {},
   "outputs": [
    {
     "name": "stdout",
     "output_type": "stream",
     "text": [
      "부리로 먹이를 쪼아 먹는다.\n"
     ]
    }
   ],
   "source": [
    "bird = Bird()\n",
    "bird.eat()"
   ]
  },
  {
   "cell_type": "markdown",
   "metadata": {},
   "source": [
    "### OOP 객체지향 언어 4가지 특징\n",
    "\n",
    "#### 추상화(Abstraction)\n",
    "- 공통의 속성이나 기능을 묶어 이름을 붙이는것 => 클래스 정의하는 것을 추상화\n",
    "#### 캡슐화(Encapsulation)\n",
    "- 변수와 함수를 하나로 묶어 외부에서 접근을 막고, 함수를 통해서만 접근하도록 한다. (은닉화)\n",
    "- https://wikidocs.net/84421\n",
    "#### 상속(Inheritance)\n",
    "- 상위 개념의 특징을 하위 개념이 물려 받는것 => 재사용성\n",
    "#### 다형성(Polymorphism)\n",
    "- 부모 클래스로부터 물려받은 함수를 자식 클래스에서 오버라이딩하여 사용하는것.\n",
    "\n",
    " [마크다운 활용법] (https://datanetworkanalysis.github.io/2019/10/12/markdown)\n"
   ]
  },
  {
   "cell_type": "code",
   "execution_count": null,
   "metadata": {},
   "outputs": [],
   "source": []
  }
 ],
 "metadata": {
  "kernelspec": {
   "display_name": "Python 3",
   "language": "python",
   "name": "python3"
  },
  "language_info": {
   "codemirror_mode": {
    "name": "ipython",
    "version": 3
   },
   "file_extension": ".py",
   "mimetype": "text/x-python",
   "name": "python",
   "nbconvert_exporter": "python",
   "pygments_lexer": "ipython3",
   "version": "3.8.6rc1"
  }
 },
 "nbformat": 4,
 "nbformat_minor": 4
}
